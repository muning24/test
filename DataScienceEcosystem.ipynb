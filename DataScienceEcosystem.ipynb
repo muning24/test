{
 "cells": [
  {
   "cell_type": "markdown",
   "id": "33fe62f3-c0e5-43c6-9e88-309892da6873",
   "metadata": {},
   "source": [
    "# Data Science Tools and Ecosystem"
   ]
  },
  {
   "cell_type": "markdown",
   "id": "4114c25b-3a36-4426-9701-0f25c112e2a9",
   "metadata": {},
   "source": [
    "## Author\n",
    "Rayanne Liu"
   ]
  },
  {
   "cell_type": "markdown",
   "id": "44364f2f-a999-450f-b2fd-82d2ecf5d301",
   "metadata": {},
   "source": [
    "**Objectives:**\n",
    "\n",
    "- List popular languages in data science.\n",
    "- List commonly used libraries.\n",
    "- List commonly used data science tools."
   ]
  },
  {
   "cell_type": "markdown",
   "id": "348794bb-f59d-477a-a83b-e229478e2080",
   "metadata": {},
   "source": [
    "In this notebook, Data Science Tools and Ecosystem are summarized."
   ]
  },
  {
   "cell_type": "markdown",
   "id": "5c1033c6-ac8b-47df-9213-576dc899fd08",
   "metadata": {},
   "source": [
    "Some of the popular languages that Data Scientists use are:"
   ]
  },
  {
   "cell_type": "markdown",
   "id": "48cff45f-8e8a-49f1-9942-59d660062efc",
   "metadata": {},
   "source": [
    "1. Python\n",
    "2. R\n",
    "3. Julia"
   ]
  },
  {
   "cell_type": "markdown",
   "id": "6f46ff00-548a-44d8-a6fc-03deea2bd0b5",
   "metadata": {},
   "source": [
    "Some of the commonly used libraries used by Data Scientists include:"
   ]
  },
  {
   "cell_type": "markdown",
   "id": "ed7a28e8-97cb-4259-ad3c-6cf61ce135ee",
   "metadata": {},
   "source": [
    "1. matplotlib\n",
    "2. pandas\n",
    "3. ggplot"
   ]
  },
  {
   "cell_type": "markdown",
   "id": "43f4a0d1-bd61-4a7d-bb92-c2509ebc4675",
   "metadata": {},
   "source": [
    "|Data Science Tools |\n",
    "|--------|\n",
    "| Anacondas |\n",
    "| RStudio  |\n",
    "| Github |"
   ]
  },
  {
   "cell_type": "markdown",
   "id": "dba851f4-7479-47ff-b1f3-672e83dff3d9",
   "metadata": {},
   "source": [
    "### Below are a few examples of evaluating arithmetic expressions in Python"
   ]
  },
  {
   "cell_type": "markdown",
   "id": "3e9937d9-2819-449f-b7a2-e4038376c6b4",
   "metadata": {},
   "source": [
    "This a simple arithmetic expression to mutiply then add integers."
   ]
  },
  {
   "cell_type": "code",
   "execution_count": 2,
   "id": "fc85873e-422e-4c27-8930-124b975fdcfc",
   "metadata": {},
   "outputs": [
    {
     "data": {
      "text/plain": [
       "17"
      ]
     },
     "execution_count": 2,
     "metadata": {},
     "output_type": "execute_result"
    }
   ],
   "source": [
    "(3*4)+5"
   ]
  },
  {
   "cell_type": "markdown",
   "id": "732c42de-e50f-4d0d-9d92-4d1fc1b1ea44",
   "metadata": {},
   "source": [
    "This will convert 200 minutes to hours by diving by 60."
   ]
  },
  {
   "cell_type": "code",
   "execution_count": 4,
   "id": "b05e6a68-f2de-47e0-a654-9a59ba720ca9",
   "metadata": {},
   "outputs": [
    {
     "data": {
      "text/plain": [
       "3.3333333333333335"
      ]
     },
     "execution_count": 4,
     "metadata": {},
     "output_type": "execute_result"
    }
   ],
   "source": [
    "200/60"
   ]
  },
  {
   "cell_type": "code",
   "execution_count": null,
   "id": "7907d7b2-9b29-480f-9775-2d34b6b4081d",
   "metadata": {},
   "outputs": [],
   "source": []
  }
 ],
 "metadata": {
  "kernelspec": {
   "display_name": "Python [conda env:base] *",
   "language": "python",
   "name": "conda-base-py"
  },
  "language_info": {
   "codemirror_mode": {
    "name": "ipython",
    "version": 3
   },
   "file_extension": ".py",
   "mimetype": "text/x-python",
   "name": "python",
   "nbconvert_exporter": "python",
   "pygments_lexer": "ipython3",
   "version": "3.13.5"
  }
 },
 "nbformat": 4,
 "nbformat_minor": 5
}
